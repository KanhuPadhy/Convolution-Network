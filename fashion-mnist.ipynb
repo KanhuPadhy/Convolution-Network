# Import theLibraries

import numpy as np
import pandas as pd
import seaborn as sns
import tensorflow as tf
import matplotlib.pyplot as plt
from tensorflow.keras.datasets import fashion_mnist

#Load the Data-Sets
(X_train,y_train), (X_test,y_test) = fashion_mnist.load_data() 

print (f'Train shape :{X_train.shape}')
print('Train label shape :{y_train.shape}') 

print(f'Test shape :{X_test.shape}')
print(f'Test label shape: {y_test.shape}')


